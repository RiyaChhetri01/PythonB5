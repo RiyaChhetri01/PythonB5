{
 "cells": [
  {
   "cell_type": "code",
   "execution_count": 2,
   "id": "3f9c276d-6e85-461e-82fa-ca68f92bbfe5",
   "metadata": {},
   "outputs": [],
   "source": [
    "list = [1, 2, 3,\"s\",[1,2],{1,2}]"
   ]
  },
  {
   "cell_type": "code",
   "execution_count": 14,
   "id": "f507547c-2c0b-4a7e-be52-f4a936fb868c",
   "metadata": {},
   "outputs": [],
   "source": [
    "listA = [2,4,6,[1,3]]"
   ]
  },
  {
   "cell_type": "code",
   "execution_count": 16,
   "id": "dacae066-d03e-483e-b63a-1363fca7a405",
   "metadata": {},
   "outputs": [],
   "source": [
    "import copy\n",
    "def showDetails(*args):\n",
    "    for i in range(len(args)):\n",
    "        variable = args[i]\n",
    "        print(f\"The Value of { i+1 } variable is \\t{variable }\\t its id is \\t {id(variable)}\")\n",
    "    \n",
    "    print(\"\\n\\n\")"
   ]
  },
  {
   "cell_type": "code",
   "execution_count": 18,
   "id": "a7f56c7c-0146-40dd-8df9-3d679280f5f6",
   "metadata": {},
   "outputs": [
    {
     "name": "stdout",
     "output_type": "stream",
     "text": [
      "The Value of 1 variable is \t[2, 4, 6, [1, 3]]\t its id is \t 5144903360\n",
      "The Value of 2 variable is \t[2, 4, 6, [1, 3]]\t its id is \t 5144903360\n",
      "\n",
      "\n",
      "\n",
      "The Value of 1 variable is \t[2, 44, 6, [1, 3]]\t its id is \t 5144903360\n",
      "The Value of 2 variable is \t[2, 44, 6, [1, 3]]\t its id is \t 5144903360\n",
      "\n",
      "\n",
      "\n",
      "The Value of 1 variable is \t[2, 44, 6, [1, 10]]\t its id is \t 5144903360\n",
      "The Value of 2 variable is \t[2, 44, 6, [1, 10]]\t its id is \t 5144903360\n",
      "\n",
      "\n",
      "\n"
     ]
    },
    {
     "data": {
      "text/plain": [
       "[2, 44, 6, [1, 9]]"
      ]
     },
     "execution_count": 18,
     "metadata": {},
     "output_type": "execute_result"
    }
   ],
   "source": [
    "listB = listA\n",
    "showDetails(listA,listB)\n",
    "listB[1] = 44\n",
    "\n",
    "showDetails(listA,listB)\n",
    "listB[3][1] = 10\n",
    "\n",
    "\n",
    "showDetails(listA,listB)\n",
    "\n",
    "listA[3][1] = 9\n",
    "listA\n"
   ]
  },
  {
   "cell_type": "code",
   "execution_count": 20,
   "id": "fef50791-3fa0-4d92-8fce-8def4a8c7b51",
   "metadata": {},
   "outputs": [
    {
     "name": "stdout",
     "output_type": "stream",
     "text": [
      "The Value of 1 variable is \t[2, 4, 6, [1, 3]]\t its id is \t 5145089152\n",
      "The Value of 2 variable is \t[2, 4, 6, [1, 3]]\t its id is \t 5145087744\n",
      "\n",
      "\n",
      "\n",
      "The Value of 1 variable is \t[2, 4, 6, [1, 3]]\t its id is \t 5145089152\n",
      "The Value of 2 variable is \t[2, 44, 6, [55, 3]]\t its id is \t 5145087744\n",
      "\n",
      "\n",
      "\n"
     ]
    }
   ],
   "source": [
    "import copy\n",
    "listA = [2,4,6,[1,3]]\n",
    "listB = copy.deepcopy(listA)\n",
    "showDetails(listA,listB)\n",
    "listB[1]= 44\n",
    "listB[3][0] = 55\n",
    "showDetails(listA,listB)"
   ]
  },
  {
   "cell_type": "code",
   "execution_count": null,
   "id": "e4fb3ac5-2579-4feb-9b02-083ad82610cf",
   "metadata": {},
   "outputs": [],
   "source": []
  }
 ],
 "metadata": {
  "kernelspec": {
   "display_name": "Python 3 (ipykernel)",
   "language": "python",
   "name": "python3"
  },
  "language_info": {
   "codemirror_mode": {
    "name": "ipython",
    "version": 3
   },
   "file_extension": ".py",
   "mimetype": "text/x-python",
   "name": "python",
   "nbconvert_exporter": "python",
   "pygments_lexer": "ipython3",
   "version": "3.12.4"
  }
 },
 "nbformat": 4,
 "nbformat_minor": 5
}
