{
 "cells": [
  {
   "cell_type": "markdown",
   "id": "0dd7154e-38a8-4b03-a1e9-bf7650d14f31",
   "metadata": {},
   "source": [
    "# 1 Basic Function Implementation:\n",
    "Write a function greet that takes two arguments: name (a string) and greeting (a string with a default value of \"Hello\"). The function should return a greeting message."
   ]
  },
  {
   "cell_type": "code",
   "execution_count": 11,
   "id": "ff106239-5b5b-497d-bc7e-e3cacc000611",
   "metadata": {},
   "outputs": [
    {
     "name": "stdout",
     "output_type": "stream",
     "text": [
      "Hello, John!\n",
      "Good morning, Alice!\n"
     ]
    }
   ],
   "source": [
    "def greet(name, greeting):\n",
    "#Using the greeting and name function together we can create the following message\n",
    "    message = f\"{greeting}, {name}!\"\n",
    "    return message\n",
    "\n",
    "# Example usage:\n",
    "print(greet(\"John\", \"Hello\"))\n",
    "print(greet(\"Alice\", \"Good morning\"))\n"
   ]
  },
  {
   "cell_type": "markdown",
   "id": "a76cf02e-e230-439f-ad57-cbb01fc6f033",
   "metadata": {},
   "source": [
    "# 2 Named Arguments:\n",
    "Create a function create_profile that takes arguments for name, age, and city as named arguments. The function should return a string like \"Name: Alice, Age: 25, City: New York\". Ensure that the age argument has a default value of 18."
   ]
  },
  {
   "cell_type": "code",
   "execution_count": 13,
   "id": "fcf1a26d-ba92-456f-93d9-9014495a2b98",
   "metadata": {},
   "outputs": [
    {
     "name": "stdout",
     "output_type": "stream",
     "text": [
      "Name: Alice, Age: 25, City: New York\n",
      "Name: Bob, Age: 18, City: Los Angeles\n"
     ]
    }
   ],
   "source": [
    "def create_profile(name, city, age=18):\n",
    "    # Create a formatted profile string\n",
    "    profile = f\"Name: {name}, Age: {age}, City: {city}\"\n",
    "    return profile\n",
    "\n",
    "# Example usage:\n",
    "print(create_profile(name=\"Alice\", city=\"New York\", age=25))\n",
    "print(create_profile(name=\"Bob\", city=\"Los Angeles\"))\n"
   ]
  },
  {
   "cell_type": "code",
   "execution_count": null,
   "id": "dc4a8594-8170-4934-9768-ead6d79ce945",
   "metadata": {},
   "outputs": [],
   "source": []
  }
 ],
 "metadata": {
  "kernelspec": {
   "display_name": "Python 3 (ipykernel)",
   "language": "python",
   "name": "python3"
  },
  "language_info": {
   "codemirror_mode": {
    "name": "ipython",
    "version": 3
   },
   "file_extension": ".py",
   "mimetype": "text/x-python",
   "name": "python",
   "nbconvert_exporter": "python",
   "pygments_lexer": "ipython3",
   "version": "3.12.4"
  }
 },
 "nbformat": 4,
 "nbformat_minor": 5
}
