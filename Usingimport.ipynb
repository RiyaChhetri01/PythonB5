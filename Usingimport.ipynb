{
 "cells": [
  {
   "cell_type": "code",
   "execution_count": 1,
   "id": "a5c20660-2580-4891-af64-e5a59a9990c6",
   "metadata": {},
   "outputs": [
    {
     "name": "stdout",
     "output_type": "stream",
     "text": [
      "imported as module\n"
     ]
    }
   ],
   "source": [
    "#import mymodule\n",
    "\n",
    "#from mymodule import PI,myadd #import particular\n",
    "#from mymodule import  * # every thing\n",
    "# import mymodule as m1\n",
    "# import mymodule2 as m2\n",
    "\n",
    "# from mymodule import PI as PI1\n",
    "# from mymodule2 import PI as PI2\n",
    "import  mymodule"
   ]
  },
  {
   "cell_type": "code",
   "execution_count": 5,
   "id": "3da8329a-6632-4723-b483-00fa236fb360",
   "metadata": {},
   "outputs": [],
   "source": [
    "# PI1"
   ]
  },
  {
   "cell_type": "code",
   "execution_count": 93,
   "id": "c461c060-1890-4feb-8c3e-92ab3d81b7d1",
   "metadata": {},
   "outputs": [],
   "source": [
    "# PI2"
   ]
  },
  {
   "cell_type": "code",
   "execution_count": null,
   "id": "2e69326c-9862-4901-8eb4-1372af6efffb",
   "metadata": {},
   "outputs": [],
   "source": []
  }
 ],
 "metadata": {
  "kernelspec": {
   "display_name": "Python 3 (ipykernel)",
   "language": "python",
   "name": "python3"
  },
  "language_info": {
   "codemirror_mode": {
    "name": "ipython",
    "version": 3
   },
   "file_extension": ".py",
   "mimetype": "text/x-python",
   "name": "python",
   "nbconvert_exporter": "python",
   "pygments_lexer": "ipython3",
   "version": "3.12.4"
  }
 },
 "nbformat": 4,
 "nbformat_minor": 5
}
