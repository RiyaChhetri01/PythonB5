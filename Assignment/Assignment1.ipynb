{
 "cells": [
  {
   "cell_type": "markdown",
   "id": "13b8fdf8-6036-4ebe-86e3-605e59b169e0",
   "metadata": {},
   "source": [
    "# # Assignment 1\n",
    "Riya Chhetri <br> <br> "
   ]
  },
  {
   "cell_type": "markdown",
   "id": "57eadbfe-a114-455a-9886-4e360d843704",
   "metadata": {},
   "source": [
    "# Write a Python program that takes a user's first and last name as input and\n",
    "#  prints them in reverse order with a space between them."
   ]
  },
  {
   "cell_type": "code",
   "execution_count": 5,
   "id": "34d1664e-b39e-4bd8-914f-724772891070",
   "metadata": {},
   "outputs": [
    {
     "name": "stdin",
     "output_type": "stream",
     "text": [
      "enter the first name  Riya\n",
      "enter the second name  Chhetri\n"
     ]
    },
    {
     "name": "stdout",
     "output_type": "stream",
     "text": [
      "irtehhC ayiR\n"
     ]
    }
   ],
   "source": [
    "str1=input(\"enter the first name \")\n",
    "str2=input(\"enter the second name \")\n",
    "print((str2[::-1] + \" \"+ str1[::-1]))"
   ]
  },
  {
   "cell_type": "markdown",
   "id": "ef71e25f-0332-4681-b765-76ace61ae627",
   "metadata": {},
   "source": [
    "# Write a Python program that takes an input number from the user,\n",
    "#  converts it to different numeric data types (integer, float, and complex),\n",
    "#  and displays the converted values."
   ]
  },
  {
   "cell_type": "code",
   "execution_count": 8,
   "id": "209819b2-5473-4c0f-ae6b-7354ddfdf5b5",
   "metadata": {},
   "outputs": [
    {
     "name": "stdin",
     "output_type": "stream",
     "text": [
      "Enter a number:  2\n"
     ]
    },
    {
     "name": "stdout",
     "output_type": "stream",
     "text": [
      "Integer: 2\n",
      "Float: 2.0\n",
      "Complex: (2+0j)\n"
     ]
    }
   ],
   "source": [
    "user_input = input(\"Enter a number: \")\n",
    "\n",
    "print(\"Integer:\", int(user_input))\n",
    "print(\"Float:\", float(user_input))\n",
    "print(\"Complex:\", complex(user_input))"
   ]
  },
  {
   "cell_type": "markdown",
   "id": "18332b85-2f94-4dbc-a4fb-d6f8c695b207",
   "metadata": {},
   "source": [
    "# Create a Python script that calculates the area of a rectangle.\n"
   ]
  },
  {
   "cell_type": "code",
   "execution_count": 11,
   "id": "77822205-444e-4db0-9255-7d4bce2260f2",
   "metadata": {},
   "outputs": [
    {
     "name": "stdin",
     "output_type": "stream",
     "text": [
      "Enter the lenght of rectangle :  6\n",
      "Enter the width of rectangle :  7\n"
     ]
    },
    {
     "name": "stdout",
     "output_type": "stream",
     "text": [
      "The area is 42.00\n"
     ]
    }
   ],
   "source": [
    "length=float(input(\"Enter the lenght of rectangle : \"))\n",
    "width=float(input(\"Enter the width of rectangle : \"))\n",
    "area=length*width\n",
    "# Modify the rectangle area program to format the output so that it displays the area with two decimal places.\n",
    "print(f\"The area is {area:.2f}\")"
   ]
  },
  {
   "cell_type": "markdown",
   "id": "062dca54-f311-449e-8e31-0525217deea1",
   "metadata": {},
   "source": [
    "\n",
    "# Write a Python script that takes three numbers as input and\n",
    "#  prints their average using the % method for string formatting"
   ]
  },
  {
   "cell_type": "code",
   "execution_count": 14,
   "id": "9297f5ca-87f7-4a4b-a98e-4917188adfce",
   "metadata": {},
   "outputs": [
    {
     "name": "stdin",
     "output_type": "stream",
     "text": [
      "enter the first number : 2\n",
      "enter the second number : 4\n",
      "enter the third number : 5\n"
     ]
    },
    {
     "name": "stdout",
     "output_type": "stream",
     "text": [
      "The average of given number is 3.67\n"
     ]
    }
   ],
   "source": [
    "num1=float(input(\"enter the first number :\"))\n",
    "\n",
    "num2=float(input(\"enter the second number :\"))\n",
    "\n",
    "num3=float(input(\"enter the third number :\"))\n",
    "\n",
    "avg=(num1+num2+num3)/3\n",
    "print(\"The average of given number is %.2f\" %avg)"
   ]
  },
  {
   "cell_type": "markdown",
   "id": "0afb6e94-de5b-4e87-8d95-72650b5503f3",
   "metadata": {},
   "source": [
    "# Write a Python program that asks the user for a number and determines whether it is positive, negative, or zero.\n",
    "\n",
    "# Implement a loop that continues to ask the user for a number until they enter 'exit'.\n",
    "\n",
    "# Use break to exit the loop and continue to prompt for a new number if the input is not 'exit'."
   ]
  },
  {
   "cell_type": "code",
   "execution_count": 25,
   "id": "c4328c11-ccfe-45e5-90f8-1c606658da3c",
   "metadata": {},
   "outputs": [
    {
     "name": "stdin",
     "output_type": "stream",
     "text": [
      "Enter the value (type -1 to exit):  2\n"
     ]
    },
    {
     "name": "stdout",
     "output_type": "stream",
     "text": [
      "Positive\n"
     ]
    },
    {
     "name": "stdin",
     "output_type": "stream",
     "text": [
      "Enter the value (type -1 to exit):  -1\n"
     ]
    }
   ],
   "source": [
    "while True:\n",
    "    val = int(input(\"Enter the value (type -1 to exit): \"))\n",
    "    \n",
    "    if val == -1:  # Exit condition, you can change -1 to any number you want as an exit signal\n",
    "        break\n",
    "    \n",
    "\n",
    "        continue\n",
    "    \n",
    "    elif val > 0:\n",
    "        print(\"Positive\")\n",
    "        \n",
    "    elif val < 0:\n",
    "        print(\"Negative\")\n",
    "        \n",
    "    elif val == 0:\n",
    "        print(\"Zero\")\n",
    "    else:\n",
    "        continue\n"
   ]
  },
  {
   "cell_type": "markdown",
   "id": "4183eb67-0325-48b1-aaa3-9501f79e3f8c",
   "metadata": {},
   "source": [
    "# Create a Python script that takes two numbers as input and \n",
    "# prints whether both numbers are even, odd, or one of each using relational and logical operators."
   ]
  },
  {
   "cell_type": "code",
   "execution_count": 29,
   "id": "032fdf04-8fbc-42a0-ba4e-e87b8f567e63",
   "metadata": {},
   "outputs": [
    {
     "name": "stdin",
     "output_type": "stream",
     "text": [
      "Enter the first value : 2\n",
      "Enter the  second value : 4\n"
     ]
    },
    {
     "name": "stdout",
     "output_type": "stream",
     "text": [
      "both are even\n"
     ]
    }
   ],
   "source": [
    "val1 = int(input(\"Enter the first value :\"))#taking input\n",
    "                 \n",
    "val2 = int(input(\"Enter the  second value :\"))\n",
    "        \n",
    "if(val1%2==0 and val2%2==0):\n",
    "    print(\"both are even\")\n",
    "\n",
    "elif(val1%2!=0 and val2%2!=0):\n",
    "    print(\"both are odd\")\n",
    "elif(val1%2!=0 or val2%2!=0):\n",
    "    print(\"each one of them is odd\")"
   ]
  },
  {
   "cell_type": "markdown",
   "id": "26d3f607-efe2-4bd5-b502-9df141e44503",
   "metadata": {},
   "source": [
    "# Write a Python program that takes an integer input and\n",
    "#  prints its binary, octal, and hexadecimal equivalents using a for loop and bitwise operators."
   ]
  },
  {
   "cell_type": "code",
   "execution_count": 41,
   "id": "7a75249c-064a-418f-9be1-1ab1666c0ba4",
   "metadata": {},
   "outputs": [
    {
     "name": "stdin",
     "output_type": "stream",
     "text": [
      "Enter an integer:  23\n"
     ]
    },
    {
     "name": "stdout",
     "output_type": "stream",
     "text": [
      "Binary: 10111\n",
      "Hexadecimal: 17\n",
      "Octal: 27\n"
     ]
    }
   ],
   "source": [
    "num = int(input(\"Enter an integer: \"))\n",
    "\n",
    "formats = [('Binary', bin), ('Hexadecimal', hex), ('Octal', oct)]\n",
    "\n",
    "for name, func in formats:\n",
    "    print(f\"{name}: {func(num)[2:].upper()}\")"
   ]
  },
  {
   "cell_type": "code",
   "execution_count": null,
   "id": "e1a10888-1ba2-4b15-95fe-6ed080884c82",
   "metadata": {},
   "outputs": [],
   "source": []
  }
 ],
 "metadata": {
  "kernelspec": {
   "display_name": "Python 3 (ipykernel)",
   "language": "python",
   "name": "python3"
  },
  "language_info": {
   "codemirror_mode": {
    "name": "ipython",
    "version": 3
   },
   "file_extension": ".py",
   "mimetype": "text/x-python",
   "name": "python",
   "nbconvert_exporter": "python",
   "pygments_lexer": "ipython3",
   "version": "3.12.4"
  }
 },
 "nbformat": 4,
 "nbformat_minor": 5
}
